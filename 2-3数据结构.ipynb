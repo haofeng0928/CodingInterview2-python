{
 "cells": [
  {
   "cell_type": "code",
   "execution_count": 1,
   "metadata": {},
   "outputs": [
    {
     "name": "stdout",
     "output_type": "stream",
     "text": [
      "z\n"
     ]
    }
   ],
   "source": [
    "# 50题：第一个只出现一次的字符\n",
    "class char:\n",
    "    def FirstNotRepeatingChar(self, s):\n",
    "        dict = {}# 定义一个字典\n",
    "        for ele in s:\n",
    "            if ele not in dict:\n",
    "                dict[ele] = 1\n",
    "            else:\n",
    "                dict[ele] += 1\n",
    "            #dict[ele] = 1 if ele not in dict else dict[ele]+1\n",
    "        for i in range(len(s)):\n",
    "            if dict[s[i]] == 1:\n",
    "                return s[i]\n",
    "    \n",
    "if __name__ == '__main__':\n",
    "    testInstance = char()# 类在调用前需要先实例化\n",
    "    str = 'azbaccdeff'\n",
    "    key = testInstance.FirstNotRepeatingChar(str)\n",
    "    print(key)"
   ]
  },
  {
   "cell_type": "code",
   "execution_count": 2,
   "metadata": {},
   "outputs": [
    {
     "name": "stdout",
     "output_type": "stream",
     "text": [
      "3\n"
     ]
    }
   ],
   "source": [
    "# 3题 数组中重复的数字\n",
    "# 排序 - 哈希表 - 根据下标的哈希表\n",
    "def RepeatNum(n):\n",
    "    for i in range(len(n)):# 从头遍历数组\n",
    "        if n[i] != i:# 元素与下标是否一致\n",
    "            if n[i] != n[n[i]]:# 返回重复数字的条件\n",
    "                while n[i] != i:# 元素与下标不一致进行交换，直至元素与下标相等\n",
    "                    tem = n[i]\n",
    "                    n[i], n[tem] = n[tem], n[i]\n",
    "            else:\n",
    "                return n[i]\n",
    "                    \n",
    "nums = [0,3,1,4,2,5,3]\n",
    "key = RepeatNum(nums)\n",
    "print(key)"
   ]
  },
  {
   "cell_type": "code",
   "execution_count": 3,
   "metadata": {},
   "outputs": [
    {
     "name": "stdout",
     "output_type": "stream",
     "text": [
      "3\n"
     ]
    }
   ],
   "source": [
    "# 不修改数组找出重复的数字\n",
    "\n",
    "def RepeatNum(alist):\n",
    "    \n",
    "    n = len(alist)\n",
    "    qlist = [-1] * n\n",
    "    \n",
    "    for i in range(n):\n",
    "        \n",
    "        value = alist[i]\n",
    "        \n",
    "        if qlist[value] < 0:\n",
    "            qlist[value] = value\n",
    "        else:\n",
    "            return qlist[value]\n",
    "        \n",
    "if __name__ == '__main__':\n",
    "    alist = [2,3,5,4,3,2,6,7]\n",
    "    print(RepeatNum(alist))"
   ]
  },
  {
   "cell_type": "code",
   "execution_count": 4,
   "metadata": {},
   "outputs": [
    {
     "name": "stdout",
     "output_type": "stream",
     "text": [
      "7\n"
     ]
    }
   ],
   "source": [
    "def RepeatNum(alist, start, end):\n",
    "    \n",
    "    while (end - start) > 0:\n",
    "        \n",
    "        # 查找重复数字的范围\n",
    "        start = start\n",
    "        end = end\n",
    "        \n",
    "        mid = (start + end) // 2\n",
    "        \n",
    "        count = 0\n",
    "        \n",
    "        # 统计取值在start-mid之间的个数\n",
    "        for i in range(len(alist)):\n",
    "            if start <= alist[i] <= mid:\n",
    "                count += 1\n",
    "            \n",
    "        # 递归\n",
    "        if count > (mid-start+1):\n",
    "            return RepeatNum(alist, start, mid)\n",
    "        else:\n",
    "            return RepeatNum(alist, mid+1, end)\n",
    "        \n",
    "    return start\n",
    "    \n",
    "if __name__ == '__main__':\n",
    "    alist = [2,3,5,4,3,2,6,7]\n",
    "    alist = [2,7,5,4,3,2,6,7]\n",
    "    print(RepeatNum(alist, 1, len(alist)-1))"
   ]
  },
  {
   "cell_type": "code",
   "execution_count": 5,
   "metadata": {},
   "outputs": [
    {
     "name": "stdout",
     "output_type": "stream",
     "text": [
      "[[1, 2, 3], [4, 5, 6], [7, 8, 9], [10, 11, 12]]\n",
      "True\n"
     ]
    }
   ],
   "source": [
    "# 题4 二维数组中的查找\n",
    "\n",
    "def matrixSearch(mat, num):\n",
    "    \n",
    "    # 二维数组的大小\n",
    "    rows = len(mat)\n",
    "    colums = len(mat[0])\n",
    "    \n",
    "    # 初始化比较的元素下标\n",
    "    row = 0\n",
    "    colum = colums - 1\n",
    "    \n",
    "    while row < rows and colum >= 0:\n",
    "        \n",
    "        # 小于则删除一列\n",
    "        if num < mat[row][colum]:\n",
    "            colum -= 1\n",
    "            \n",
    "        # 大于则删除一行\n",
    "        elif num > mat[row][colum]:\n",
    "            row += 1\n",
    "            \n",
    "        else:\n",
    "            return True\n",
    "    \n",
    "    return False\n",
    "\n",
    "if __name__ == '__main__':\n",
    "    \n",
    "#     matrix = [[0 for i in range(4)]for i in range(4)]\n",
    "#     print(matrix)\n",
    "    matrix = [[1,2,3], [4,5,6], [7,8,9], [10,11,12]]\n",
    "    print(matrix)\n",
    "    \n",
    "    print(matrixSearch(matrix, 7))"
   ]
  },
  {
   "cell_type": "code",
   "execution_count": 6,
   "metadata": {},
   "outputs": [
    {
     "name": "stdout",
     "output_type": "stream",
     "text": [
      "['1', '1', '1', '1', '1', '1', '1', '1', '1', '1', '1', '1', '1', '1', '1', '1']\n",
      "we%20are%20happy\n"
     ]
    }
   ],
   "source": [
    "# 题5 替换空格\n",
    "\n",
    "def replaceSpace(astring):\n",
    "    \n",
    "    # 空格计数\n",
    "    count = 0\n",
    "    for i in astring:\n",
    "        if i == ' ':\n",
    "            count += 1\n",
    "            \n",
    "    lens = len(astring) + count*2\n",
    "    m, n = len(astring)-1, lens-1\n",
    "    \n",
    "    # qstring初始化\n",
    "    #qstring = astring + 'i' * 2\n",
    "    qstring = ['1'] * lens\n",
    "    print(qstring)\n",
    "    \n",
    "    while m != -1:\n",
    "        \n",
    "        # 非空格直接复制\n",
    "        if astring[m] != ' ':\n",
    "            qstring[n] = astring[m]\n",
    "            m -= 1\n",
    "            n -= 1\n",
    "            \n",
    "        # 空格则换成%20\n",
    "        else:\n",
    "            qstring[n] = '0'\n",
    "            qstring[n-1] = '2'\n",
    "            qstring[n-2] = '%'\n",
    "            m -= 1\n",
    "            n -= 3\n",
    "    \n",
    "    # 将字符列表转成字符串\n",
    "    return ''.join(qstring)\n",
    "    \n",
    "if __name__ == '__main__':\n",
    "    astring = 'we are happy'\n",
    "    print(replaceSpace(astring))"
   ]
  },
  {
   "cell_type": "code",
   "execution_count": 7,
   "metadata": {},
   "outputs": [
    {
     "name": "stdout",
     "output_type": "stream",
     "text": [
      "we%20are%20happy\n"
     ]
    }
   ],
   "source": [
    "astring = 'we are happy'\n",
    "print(\"%20\".join(astring.split(\" \")))"
   ]
  },
  {
   "cell_type": "code",
   "execution_count": 8,
   "metadata": {},
   "outputs": [
    {
     "name": "stdout",
     "output_type": "stream",
     "text": [
      "we%20are%20happy\n"
     ]
    }
   ],
   "source": [
    "def replaceSpace(astring):\n",
    "    qstring = ''\n",
    "    for i in astring:\n",
    "        if i == ' ':\n",
    "            qstring += '%20'\n",
    "        else:\n",
    "            qstring += i\n",
    "    return qstring\n",
    "astring = 'we are happy'\n",
    "print(replaceSpace(astring))"
   ]
  },
  {
   "cell_type": "code",
   "execution_count": 9,
   "metadata": {},
   "outputs": [
    {
     "name": "stdout",
     "output_type": "stream",
     "text": [
      "we%20are%20happy\n"
     ]
    }
   ],
   "source": [
    "def replaceSpace(s):\n",
    "        \n",
    "    slen=len(s)\n",
    "\n",
    "    mystr=[]\n",
    "    for i in range(slen):\n",
    "        if s[i]==' ':\n",
    "            mystr.append(\"%20\")\n",
    "        else:\n",
    "            mystr.append(s[i])\n",
    "    mystr=\"\".join(mystr)\n",
    "    return mystr\n",
    "    \n",
    "astring = 'we are happy'\n",
    "print(replaceSpace(astring))"
   ]
  },
  {
   "cell_type": "code",
   "execution_count": null,
   "metadata": {},
   "outputs": [],
   "source": []
  },
  {
   "cell_type": "code",
   "execution_count": 47,
   "metadata": {},
   "outputs": [
    {
     "name": "stdout",
     "output_type": "stream",
     "text": [
      "18\n"
     ]
    }
   ],
   "source": [
    "# 题14 剪绳子\n",
    "\n",
    "# 动态规划\n",
    "\n",
    "def ropeCut(lenth):\n",
    "    \n",
    "    if lenth <= 1:\n",
    "        return 0\n",
    "    if lenth == 2:\n",
    "        return 1\n",
    "    if lenth == 3:\n",
    "        return 2\n",
    "    \n",
    "    # 初始化最优解数组\n",
    "    listz = [0,1,2,3]\n",
    "    \n",
    "    # 每次将小于求解长度的结果添加到数组里\n",
    "    # 使用列表保存最优解数组是为了性能优化\n",
    "    for i in range(4, lenth+1):\n",
    "        \n",
    "        maxz = 0\n",
    "        for j in range(1, i):\n",
    "            \n",
    "            # 将最大乘积时的最优解添加到数组\n",
    "            tem = listz[j] * listz[i-j]\n",
    "            if tem > maxz:\n",
    "                maxz = tem\n",
    "        listz.append(maxz)\n",
    "    return listz[-1]\n",
    "\n",
    "if __name__ == '__main__':\n",
    "    print(ropeCut(8))"
   ]
  },
  {
   "cell_type": "code",
   "execution_count": 60,
   "metadata": {},
   "outputs": [
    {
     "name": "stdout",
     "output_type": "stream",
     "text": [
      "18\n"
     ]
    }
   ],
   "source": [
    "# 贪婪算法\n",
    "\n",
    "# 尽可能多的剪出长度为3可得到最大乘积\n",
    "# 例外：当余数为1时，应该将4分为两段2\n",
    "\n",
    "def ropeCut(lenth):\n",
    "    \n",
    "    # 特殊情况\n",
    "    if lenth <= 1:\n",
    "        return 0\n",
    "    if lenth == 2:\n",
    "        return 1\n",
    "    if lenth == 3:\n",
    "        return 2\n",
    "    \n",
    "    # 统计3的个数\n",
    "    count = 0\n",
    "    \n",
    "    # lenth=4、3、2跳出循环\n",
    "    while lenth > 4:\n",
    "        count += 1\n",
    "        lenth -= 3\n",
    "    return 3**count*lenth\n",
    "\n",
    "if __name__ == '__main__':\n",
    "    print(ropeCut(8))"
   ]
  },
  {
   "cell_type": "code",
   "execution_count": null,
   "metadata": {},
   "outputs": [],
   "source": []
  }
 ],
 "metadata": {
  "kernelspec": {
   "display_name": "Python 3",
   "language": "python",
   "name": "python3"
  },
  "language_info": {
   "codemirror_mode": {
    "name": "ipython",
    "version": 3
   },
   "file_extension": ".py",
   "mimetype": "text/x-python",
   "name": "python",
   "nbconvert_exporter": "python",
   "pygments_lexer": "ipython3",
   "version": "3.7.0"
  }
 },
 "nbformat": 4,
 "nbformat_minor": 2
}
