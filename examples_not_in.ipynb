{
 "cells": [
  {
   "cell_type": "code",
   "execution_count": 3,
   "metadata": {},
   "outputs": [
    {
     "name": "stdout",
     "output_type": "stream",
     "text": [
      "3\n"
     ]
    }
   ],
   "source": [
    "# 题3-2 不修改数组找出重复的数字\n",
    "\n",
    "def RepeatNum(alist):\n",
    "    \n",
    "    n = len(alist)\n",
    "    qlist = [-1] * n\n",
    "    \n",
    "    for i in range(n):\n",
    "        \n",
    "        value = alist[i]\n",
    "        \n",
    "        if qlist[value] < 0:\n",
    "            qlist[value] = value\n",
    "        else:\n",
    "            return qlist[value]\n",
    "        \n",
    "if __name__ == '__main__':\n",
    "    alist = [2,3,5,4,3,2,6,7]\n",
    "    print(RepeatNum(alist))"
   ]
  },
  {
   "cell_type": "code",
   "execution_count": null,
   "metadata": {},
   "outputs": [],
   "source": [
    "# 题14 剪绳子\n",
    "\n",
    "# 动态规划\n",
    "\n",
    "def ropeCut(lenth):\n",
    "    \n",
    "    if lenth <= 1:\n",
    "        return 0\n",
    "    if lenth == 2:\n",
    "        return 1\n",
    "    if lenth == 3:\n",
    "        return 2\n",
    "    \n",
    "    # 初始化最优解数组\n",
    "    listz = [0,1,2,3]\n",
    "    \n",
    "    # 每次将小于求解长度的结果添加到数组里\n",
    "    # 使用列表保存最优解数组是为了性能优化\n",
    "    for i in range(4, lenth+1):\n",
    "        \n",
    "        maxz = 0\n",
    "        for j in range(1, i):\n",
    "            \n",
    "            # 将最大乘积时的最优解添加到数组\n",
    "            tem = listz[j] * listz[i-j]\n",
    "            if tem > maxz:\n",
    "                maxz = tem\n",
    "        listz.append(maxz)\n",
    "    return listz[-1]\n",
    "\n",
    "if __name__ == '__main__':\n",
    "    print(ropeCut(8))"
   ]
  },
  {
   "cell_type": "code",
   "execution_count": null,
   "metadata": {},
   "outputs": [],
   "source": [
    "# 贪婪算法\n",
    "\n",
    "# 尽可能多的剪出长度为3可得到最大乘积\n",
    "# 例外：当余数为1时，应该将4分为两段2\n",
    "\n",
    "def ropeCut(lenth):\n",
    "    \n",
    "    # 特殊情况\n",
    "    if lenth <= 1:\n",
    "        return 0\n",
    "    if lenth == 2:\n",
    "        return 1\n",
    "    if lenth == 3:\n",
    "        return 2\n",
    "    \n",
    "    # 统计3的个数\n",
    "    count = 0\n",
    "    \n",
    "    # lenth=4、3、2跳出循环\n",
    "    while lenth > 4:\n",
    "        count += 1\n",
    "        lenth -= 3\n",
    "    return 3**count*lenth\n",
    "\n",
    "if __name__ == '__main__':\n",
    "    print(ropeCut(8))"
   ]
  },
  {
   "cell_type": "code",
   "execution_count": 12,
   "metadata": {},
   "outputs": [
    {
     "name": "stdout",
     "output_type": "stream",
     "text": [
      "3\n"
     ]
    }
   ],
   "source": [
    "# 题44 数字序列中每一位的数字\n",
    "\n",
    "class Solution:\n",
    "    def countOfIntegers(self, digit):\n",
    "        if digit == 1:\n",
    "            return 10\n",
    "        return 9 * (10 ** (digit - 1))\n",
    "    \n",
    "    def beginNum(self, digit):\n",
    "        if digit == 1:\n",
    "            return 0\n",
    "        else:\n",
    "            return 10 ** (digit - 1)\n",
    "        \n",
    "    def getDigit(self, digit, index):\n",
    "        beginNum = self.beginNum(digit)\n",
    "        endNum = beginNum + index // digit\n",
    "        leftIndex = index % digit\n",
    "        endNumString = str(endNum)\n",
    "        return endNumString[leftIndex]\n",
    "    \n",
    "    def digitAtIndex(self, index):\n",
    "        if index < 0:\n",
    "            return False\n",
    "        digit = 1\n",
    "        while True:\n",
    "            numbers = self.countOfIntegers(digit)\n",
    "            if index < digit * numbers:\n",
    "                return self.getDigit(digit, index)\n",
    "            index -= numbers * digit\n",
    "            digit += 1\n",
    "    \n",
    "if __name__ == '__main__':\n",
    "    n = 1234567891011\n",
    "    res = Solution()\n",
    "    print(res.digitAtIndex(77))"
   ]
  },
  {
   "cell_type": "code",
   "execution_count": 55,
   "metadata": {},
   "outputs": [
    {
     "name": "stdout",
     "output_type": "stream",
     "text": [
      "['1', '2', '2', '5', '8']\n",
      "3\n"
     ]
    },
    {
     "data": {
      "text/plain": [
       "5"
      ]
     },
     "execution_count": 55,
     "metadata": {},
     "output_type": "execute_result"
    }
   ],
   "source": [
    "# 题46 把数字翻译成字符串\n",
    "\n",
    "class Solution:\n",
    "    def numbersToString(self, numbers):\n",
    "        \n",
    "        # 数组转字符串数组\n",
    "        strs = str(numbers)\n",
    "        array = []\n",
    "        for i in strs:\n",
    "            array.append(i)\n",
    "        print(array)\n",
    "        \n",
    "        # 统计在0 - 25之间的数字\n",
    "        count = 0\n",
    "        for i in range(len(strs)-1):\n",
    "            if int(array[i])*10 + int(array[i+1]) < 26:\n",
    "                count += 1\n",
    "        print(count)\n",
    "        \n",
    "        if count == 0:\n",
    "            return 1\n",
    "        res = 0\n",
    "        while count > 0:\n",
    "            res += count\n",
    "            count -= 2\n",
    "            \n",
    "        return res+1\n",
    "    \n",
    "res = Solution()\n",
    "res.numbersToString(12258)"
   ]
  },
  {
   "cell_type": "code",
   "execution_count": 56,
   "metadata": {},
   "outputs": [
    {
     "name": "stdout",
     "output_type": "stream",
     "text": [
      "1 [0, 0, 0, 0, 0]\n",
      "1 [0, 0, 0, 0, 1]\n",
      "1 [0, 0, 0, 1, 1]\n",
      "2 [0, 0, 2, 1, 1]\n",
      "3 [0, 3, 2, 1, 1]\n"
     ]
    },
    {
     "data": {
      "text/plain": [
       "5"
      ]
     },
     "execution_count": 56,
     "metadata": {},
     "output_type": "execute_result"
    }
   ],
   "source": [
    "class Solution:\n",
    "    def GetTranslationCount(self, number):\n",
    "        StrNumber = str(number)\n",
    "        length = len(StrNumber)\n",
    "        count = 0\n",
    "        counts = [0]*length\n",
    "        \n",
    "        for i in range(length-1, -1, -1):\n",
    "            count = 0\n",
    "            if i<length-1:\n",
    "                count = counts[i+1]\n",
    "            else:\n",
    "                count = 1\n",
    "            print(count, counts)\n",
    "            \n",
    "            if i<length-1:\n",
    "                digit1 = int(StrNumber[i])\n",
    "                digit2 = int(StrNumber[i+1])\n",
    "                converted = digit1*10+digit2\n",
    "                if converted>=10 and converted<=25:\n",
    "                    if i<length-2:\n",
    "                        count = count+counts[i+2]\n",
    "                    else:\n",
    "                        count = count+1\n",
    "           \n",
    "            counts[i] = count\n",
    "        count = counts[0]\n",
    "        return count\n",
    "    \n",
    "res = Solution()\n",
    "res.GetTranslationCount(12258)"
   ]
  },
  {
   "cell_type": "code",
   "execution_count": 7,
   "metadata": {},
   "outputs": [
    {
     "name": "stdout",
     "output_type": "stream",
     "text": [
      "53\n"
     ]
    }
   ],
   "source": [
    "# 题47 礼物的最大价值\n",
    "\n",
    "class Solution:\n",
    "    def getMaxValue(self, values, rows, cols):\n",
    "        if not values or rows<= 0 or cols<=0:\n",
    "            return 0\n",
    "        \n",
    "        # 用一个一维数组存放当前位置的最大值\n",
    "        temp = [0] * cols\n",
    "        \n",
    "        for i in range(rows):\n",
    "            for j in range(cols):\n",
    "                \n",
    "                # 分别保存左面最大值和上面最大值\n",
    "                left, up = 0, 0\n",
    "                \n",
    "                if j > 0:\n",
    "                    left = temp[j-1]\n",
    "                if i > 0:\n",
    "                    up = temp[j]\n",
    "                \n",
    "                temp[j] = max(left, up) + values[i*cols + j]\n",
    "        \n",
    "        return temp[-1]\n",
    "    \n",
    "if __name__ == '__main__':\n",
    "    res = Solution()\n",
    "    result = res.getMaxValue([1,10,3,8,12,2,9,6,5,7,4,11,3,7,16,5], 4, 4)\n",
    "    print(result)"
   ]
  },
  {
   "cell_type": "code",
   "execution_count": 12,
   "metadata": {},
   "outputs": [
    {
     "name": "stdout",
     "output_type": "stream",
     "text": [
      "4\n"
     ]
    }
   ],
   "source": [
    "# 题48 最长不包含重复数字的子字符串\n",
    "\n",
    "class Solution:\n",
    "    def longestSubstringWithoutDuplication(self, s):\n",
    "        \n",
    "        max_len = 0\n",
    "        \n",
    "        if s is None:\n",
    "            return 0\n",
    "        # 定义一个字典，存储不重复的字符和字符所在的下标\n",
    "        str_dict = {}\n",
    "        # 存储每次循环中最长的子串长度\n",
    "        one_max = 0\n",
    "        # 记录最近重复字符所在的位置+1\n",
    "        start = 0\n",
    "        for i in range(len(s)):\n",
    "            # 判断当前字符是否在字典中和当前字符的下标是否大于等于最近重复字符的所在位置\n",
    "            if s[i] in str_dict and str_dict[s[i]] >= start:\n",
    "                # 记录当前字符的值+1\n",
    "                start = str_dict[s[i]] + 1\n",
    "            # 在此次循环中，最大的不重复子串的长度\n",
    "            one_max = i - start + 1\n",
    "            # 把当前位置覆盖字典中的位置\n",
    "            str_dict[s[i]] = i\n",
    "            # 比较此次循环的最大不重复子串长度和历史循环最大不重复子串长度\n",
    "            max_len = max(max_len, one_max)\n",
    "        return max_len\n",
    "    \n",
    "if __name__ == '__main__':\n",
    "    res = Solution()\n",
    "    print(res.longestSubstringWithoutDuplication('arabcacfr'))"
   ]
  },
  {
   "cell_type": "code",
   "execution_count": null,
   "metadata": {},
   "outputs": [],
   "source": []
  }
 ],
 "metadata": {
  "kernelspec": {
   "display_name": "Python 3",
   "language": "python",
   "name": "python3"
  },
  "language_info": {
   "codemirror_mode": {
    "name": "ipython",
    "version": 3
   },
   "file_extension": ".py",
   "mimetype": "text/x-python",
   "name": "python",
   "nbconvert_exporter": "python",
   "pygments_lexer": "ipython3",
   "version": "3.7.0"
  }
 },
 "nbformat": 4,
 "nbformat_minor": 2
}
