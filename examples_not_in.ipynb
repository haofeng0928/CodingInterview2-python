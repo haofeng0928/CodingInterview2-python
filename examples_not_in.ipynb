{
 "cells": [
  {
   "cell_type": "code",
   "execution_count": 3,
   "metadata": {},
   "outputs": [
    {
     "name": "stdout",
     "output_type": "stream",
     "text": [
      "3\n"
     ]
    }
   ],
   "source": [
    "# 题3-2 不修改数组找出重复的数字\n",
    "\n",
    "def RepeatNum(alist):\n",
    "    \n",
    "    n = len(alist)\n",
    "    qlist = [-1] * n\n",
    "    \n",
    "    for i in range(n):\n",
    "        \n",
    "        value = alist[i]\n",
    "        \n",
    "        if qlist[value] < 0:\n",
    "            qlist[value] = value\n",
    "        else:\n",
    "            return qlist[value]\n",
    "        \n",
    "if __name__ == '__main__':\n",
    "    alist = [2,3,5,4,3,2,6,7]\n",
    "    print(RepeatNum(alist))"
   ]
  },
  {
   "cell_type": "code",
   "execution_count": null,
   "metadata": {},
   "outputs": [],
   "source": [
    "# 题14 剪绳子\n",
    "\n",
    "# 动态规划\n",
    "\n",
    "def ropeCut(lenth):\n",
    "    \n",
    "    if lenth <= 1:\n",
    "        return 0\n",
    "    if lenth == 2:\n",
    "        return 1\n",
    "    if lenth == 3:\n",
    "        return 2\n",
    "    \n",
    "    # 初始化最优解数组\n",
    "    listz = [0,1,2,3]\n",
    "    \n",
    "    # 每次将小于求解长度的结果添加到数组里\n",
    "    # 使用列表保存最优解数组是为了性能优化\n",
    "    for i in range(4, lenth+1):\n",
    "        \n",
    "        maxz = 0\n",
    "        for j in range(1, i):\n",
    "            \n",
    "            # 将最大乘积时的最优解添加到数组\n",
    "            tem = listz[j] * listz[i-j]\n",
    "            if tem > maxz:\n",
    "                maxz = tem\n",
    "        listz.append(maxz)\n",
    "    return listz[-1]\n",
    "\n",
    "if __name__ == '__main__':\n",
    "    print(ropeCut(8))"
   ]
  },
  {
   "cell_type": "code",
   "execution_count": null,
   "metadata": {},
   "outputs": [],
   "source": [
    "# 贪婪算法\n",
    "\n",
    "# 尽可能多的剪出长度为3可得到最大乘积\n",
    "# 例外：当余数为1时，应该将4分为两段2\n",
    "\n",
    "def ropeCut(lenth):\n",
    "    \n",
    "    # 特殊情况\n",
    "    if lenth <= 1:\n",
    "        return 0\n",
    "    if lenth == 2:\n",
    "        return 1\n",
    "    if lenth == 3:\n",
    "        return 2\n",
    "    \n",
    "    # 统计3的个数\n",
    "    count = 0\n",
    "    \n",
    "    # lenth=4、3、2跳出循环\n",
    "    while lenth > 4:\n",
    "        count += 1\n",
    "        lenth -= 3\n",
    "    return 3**count*lenth\n",
    "\n",
    "if __name__ == '__main__':\n",
    "    print(ropeCut(8))"
   ]
  }
 ],
 "metadata": {
  "kernelspec": {
   "display_name": "Python 3",
   "language": "python",
   "name": "python3"
  },
  "language_info": {
   "codemirror_mode": {
    "name": "ipython",
    "version": 3
   },
   "file_extension": ".py",
   "mimetype": "text/x-python",
   "name": "python",
   "nbconvert_exporter": "python",
   "pygments_lexer": "ipython3",
   "version": "3.7.0"
  }
 },
 "nbformat": 4,
 "nbformat_minor": 2
}
